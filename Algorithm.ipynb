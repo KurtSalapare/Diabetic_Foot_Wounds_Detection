{
 "cells": [
  {
   "cell_type": "code",
   "execution_count": 16,
   "id": "bc0b5b3b",
   "metadata": {},
   "outputs": [],
   "source": [
    "import numpy as np\n",
    "from scipy.io import loadmat\n",
    "\n",
    "# Load one patient's file\n",
    "data = loadmat('Data/Temp Data/gz2.mat')\n",
    "\n",
    "# Extract arrays (crop version is usually preprocessed & aligned)\n",
    "left_plantar_list = data['Direct_plantar_Left_crop']\n",
    "right_plantar_list = data['Direct_plantar_Right_crop']\n",
    "\n",
    "# Convert from nested objects to numpy arrays\n",
    "# each entry in the (10,1) list is an array (for 10 days)\n",
    "left_plantar = [arr for arr in left_plantar_list[:,0]]\n",
    "right_plantar = [arr for arr in right_plantar_list[:,0]]\n"
   ]
  },
  {
   "cell_type": "markdown",
   "id": "cf6032b4",
   "metadata": {},
   "source": [
    "The below function needs to be changed most important!!"
   ]
  },
  {
   "cell_type": "code",
   "execution_count": 17,
   "id": "a736f421",
   "metadata": {},
   "outputs": [],
   "source": [
    "def analyze_day(left_img, right_img, point_thresh=2.2, avg_thresh=1.6):\n",
    "    \"\"\"\n",
    "    Compare left vs right thermal images for one day.\n",
    "    \"\"\"\n",
    "    # Ensure shapes match\n",
    "    assert left_img.shape == right_img.shape, \"Left and Right images must be aligned\"\n",
    "\n",
    "    # Point-wise absolute difference\n",
    "    diff = np.abs(left_img - right_img)\n",
    "\n",
    "    # Rule 1: Point-wise asymmetry\n",
    "    point_violation = np.any(diff > point_thresh)\n",
    "\n",
    "    # Rule 2: Average asymmetry\n",
    "    avg_diff = np.abs(np.mean(left_img) - np.mean(right_img))\n",
    "    avg_violation = avg_diff > avg_thresh\n",
    "\n",
    "    return {\n",
    "        \"point_violation\": point_violation,\n",
    "        \"avg_violation\": avg_violation,\n",
    "        \"avg_diff\": avg_diff,\n",
    "        \"max_point_diff\": np.max(diff)\n",
    "    }\n"
   ]
  },
  {
   "cell_type": "code",
   "execution_count": null,
   "id": "91c2d92c",
   "metadata": {},
   "outputs": [],
   "source": [
    "def analyze_over_days(left_imgs, right_imgs, days_required=5):\n",
    "    results = []\n",
    "    for l_img, r_img in zip(left_imgs, right_imgs):\n",
    "        results.append(analyze_day(l_img, r_img))\n",
    "\n",
    "    # Temporal persistence: if violation persists for N+ days\n",
    "    at_risk_days = [res[\"point_violation\"] or res[\"avg_violation\"] for res in results]\n",
    "    \n",
    "    # Check if there’s a consecutive streak of at least days_required\n",
    "    risk_flag = False\n",
    "    streak = 0\n",
    "    for day_flag in at_risk_days:\n",
    "        if day_flag:\n",
    "            streak += 1\n",
    "            if streak >= days_required:\n",
    "                risk_flag = True\n",
    "                break\n",
    "        else:\n",
    "            streak = 0\n",
    "\n",
    "    return results, risk_flag\n"
   ]
  },
  {
   "cell_type": "code",
   "execution_count": null,
   "id": "8cc236a0",
   "metadata": {},
   "outputs": [
    {
     "name": "stdout",
     "output_type": "stream",
     "text": [
      "Daily results:\n",
      "Day 1: AvgDiff=0.75, MaxPointDiff=33.30, PointFlag=True, AvgFlag=False\n",
      "Day 2: AvgDiff=0.74, MaxPointDiff=32.70, PointFlag=True, AvgFlag=False\n",
      "Day 3: AvgDiff=0.71, MaxPointDiff=31.60, PointFlag=True, AvgFlag=False\n",
      "Day 4: AvgDiff=0.72, MaxPointDiff=31.80, PointFlag=True, AvgFlag=False\n",
      "Day 5: AvgDiff=0.78, MaxPointDiff=33.10, PointFlag=True, AvgFlag=False\n",
      "Day 6: AvgDiff=0.87, MaxPointDiff=34.30, PointFlag=True, AvgFlag=False\n",
      "Day 7: AvgDiff=0.84, MaxPointDiff=34.20, PointFlag=True, AvgFlag=False\n",
      "Day 8: AvgDiff=0.80, MaxPointDiff=34.30, PointFlag=True, AvgFlag=False\n",
      "Day 9: AvgDiff=0.78, MaxPointDiff=32.90, PointFlag=True, AvgFlag=False\n",
      "Day 10: AvgDiff=0.74, MaxPointDiff=31.50, PointFlag=True, AvgFlag=False\n",
      "\n",
      "Final Risk Flag: True\n"
     ]
    }
   ],
   "source": [
    "results, risk_flag = analyze_over_days(left_plantar, right_plantar, days_required=5)\n",
    "\n",
    "print(\"Daily results:\")\n",
    "for i, res in enumerate(results):\n",
    "    print(f\"Day {i+1}: AvgDiff={res['avg_diff']:.2f}, MaxPointDiff={res['max_point_diff']:.2f}, \"\n",
    "          f\"PointFlag={res['point_violation']}, AvgFlag={res['avg_violation']}\")\n",
    "\n",
    "print(\"\\nFinal Risk Flag:\", risk_flag)\n"
   ]
  }
 ],
 "metadata": {
  "kernelspec": {
   "display_name": "Python 3",
   "language": "python",
   "name": "python3"
  },
  "language_info": {
   "codemirror_mode": {
    "name": "ipython",
    "version": 3
   },
   "file_extension": ".py",
   "mimetype": "text/x-python",
   "name": "python",
   "nbconvert_exporter": "python",
   "pygments_lexer": "ipython3",
   "version": "3.10.7"
  }
 },
 "nbformat": 4,
 "nbformat_minor": 5
}
